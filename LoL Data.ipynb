{
 "cells": [
  {
   "cell_type": "markdown",
   "metadata": {},
   "source": [
    "## Machine Learning Analysis of League of Legends Drafts\n"
   ]
  },
  {
   "cell_type": "markdown",
   "metadata": {},
   "source": [
    "### Introduction\n",
    "In the popular video game League of Legends, teams of five face off against each other. Before the game begins, each team picks five unique champions to play. This collection of champions is known as a particular game's draft. \n",
    "\\\n",
    "Each game is also played on a particular patch, a version of the game following biweekly balance changes. Patches through the end of 2024 follow the format `season.patch`, so patch 14.9 would be the ninth patch of the 14th season. \n",
    "\n",
    "This project aims to look at the drafts of professional League of Legends games and use machine learning to train models that are able to predict the winner of a game given each team's draft. \n",
    "\\\n",
    "The results of different models will be compared to each other in order to see what parameters might lead to more accurate results.\n",
    "\n"
   ]
  },
  {
   "cell_type": "markdown",
   "metadata": {},
   "source": [
    "### Data\n",
    "\n",
    "The data for this project was obtained from [Oracle's Elixir](https://oracleselixir.com/tools/downloads)."
   ]
  },
  {
   "cell_type": "markdown",
   "metadata": {},
   "source": [
    "### Model 1\n",
    "The model for this project was built using PyTorch and encoded through one-hot encoding for the patches and multi-hot encoding for the drafts."
   ]
  },
  {
   "cell_type": "markdown",
   "metadata": {},
   "source": [
    "### Setting Up the Data\n",
    "Since the data currently contains a lot more information than necessary, it must be cleaned in order to present the model with something that is usable in an efficient manner."
   ]
  },
  {
   "cell_type": "markdown",
   "metadata": {},
   "source": [
    "**Packages**"
   ]
  },
  {
   "cell_type": "code",
   "execution_count": 30,
   "metadata": {},
   "outputs": [],
   "source": [
    "import numpy as np\n",
    "import pandas as pd\n",
    "import torch\n",
    "import torch.nn as nn\n",
    "import torch.nn.functional as F\n",
    "from torch.utils.data import Dataset, DataLoader\n"
   ]
  },
  {
   "cell_type": "markdown",
   "metadata": {},
   "source": [
    "**Data Cleaning**"
   ]
  },
  {
   "cell_type": "code",
   "execution_count": 31,
   "metadata": {},
   "outputs": [
    {
     "name": "stdout",
     "output_type": "stream",
     "text": [
      "    patch         pick1     pick2    pick3   pick4       pick5  result\n",
      "10  13.24       Kalista     Senna  Orianna  Maokai      Aatrox       0\n",
      "11  13.24  Renata Glasc     Varus  LeBlanc    Rell      Rumble       1\n",
      "22  13.24         Neeko  Bel'Veth   Kennen   Senna  Tahm Kench       0\n",
      "23  13.24       Kalista       Jax  LeBlanc    Rell   Jarvan IV       1\n",
      "34  13.24         Neeko   Caitlyn      Lux     Jax    Bel'Veth       1\n"
     ]
    }
   ],
   "source": [
    "data = pd.read_csv(r'C:\\Users\\Josh\\Downloads\\2024_LoL_esports_match_data_from_OraclesElixir.csv', low_memory=False)\n",
    "\n",
    "# Get the rows: 1st row (index 0), every 12th row (indices 11, 23, 35, ...), and the next row (12th, 24th, 36th, ...)\n",
    "rows_to_select = list(range(10, len(data), 12)) + list(range(11, len(data), 12))\n",
    "\n",
    "# Sort the rows (since they might be in an unordered sequence after the concatenation)\n",
    "rows_to_select.sort()\n",
    "\n",
    "# Column index positions: J=9, X=23, Y=24, Z=25, AA=26, AB=27, AD=29\n",
    "columns_to_select = [9, 23, 24, 25, 26, 27, 29]\n",
    "\n",
    "# Select the rows and the specific columns by index\n",
    "cleaned_data = data.iloc[rows_to_select, columns_to_select]\n",
    "\n",
    "# Display the cleaned data to double check\n",
    "print(cleaned_data.head())\n",
    "\n"
   ]
  },
  {
   "cell_type": "markdown",
   "metadata": {},
   "source": [
    "**Grouping Data for the Model**"
   ]
  },
  {
   "cell_type": "code",
   "execution_count": 32,
   "metadata": {},
   "outputs": [
    {
     "name": "stdout",
     "output_type": "stream",
     "text": [
      "   patch pick1_team1 pick2_team1   pick3_team1 pick4_team1 pick5_team1  \\\n",
      "0  13.24     Kalista       Senna       Orianna      Maokai      Aatrox   \n",
      "1  13.24       Neeko    Bel'Veth        Kennen       Senna  Tahm Kench   \n",
      "2  13.24       Neeko     Caitlyn           Lux         Jax    Bel'Veth   \n",
      "3  13.24      Rumble      Draven  Renata Glasc    Tristana   Jarvan IV   \n",
      "4  13.24       Varus        Azir      Nautilus    Xin Zhao    Renekton   \n",
      "\n",
      "    pick1_team2   pick2_team2 pick3_team2 pick4_team2 pick5_team2  result  \n",
      "0  Renata Glasc         Varus     LeBlanc        Rell      Rumble       1  \n",
      "1       Kalista           Jax     LeBlanc        Rell   Jarvan IV       1  \n",
      "2       Kalista  Renata Glasc        Azir     Lee Sin      Aatrox       0  \n",
      "3       Orianna       Kalista       Senna      Aatrox      Wukong       0  \n",
      "4         Milio       Orianna      Lucian     Lee Sin      Aatrox       0  \n",
      "[1 0]\n"
     ]
    }
   ],
   "source": [
    "data_grouped = []\n",
    "for i in range(0, len(cleaned_data), 2):\n",
    "    # Combine the features of the two rows (picks, patch, etc.) into one row\n",
    "    patch = cleaned_data.iloc[i, 0]  # Get the patch from the first row of the pair (index 0 is the patch column)\n",
    "    \n",
    "    # Combine picks for both teams (pick1-pick5) and the patch\n",
    "    row = [patch] + cleaned_data.iloc[i, 1:6].tolist() + cleaned_data.iloc[i+1, 1:6].tolist()\n",
    "    \n",
    "    # Append result from the second row of the pair (team 1's result)\n",
    "    row.append(cleaned_data.iloc[i+1, -1])  # Assuming result is the last column\n",
    "    \n",
    "    data_grouped.append(row)\n",
    "\n",
    "# Convert the list of grouped data into a new DataFrame\n",
    "columns = ['patch', 'pick1_team1', 'pick2_team1', 'pick3_team1', 'pick4_team1', 'pick5_team1',\n",
    "           'pick1_team2', 'pick2_team2', 'pick3_team2', 'pick4_team2', 'pick5_team2', 'result']\n",
    "\n",
    "game_data = pd.DataFrame(data_grouped, columns=columns)\n",
    "\n",
    "# Convert all columns to strings\n",
    "game_data = game_data.astype(str)\n",
    "\n",
    "# Convert result to an integer\n",
    "game_data['result'] = game_data['result'].astype(int)\n",
    "\n",
    "# Display the first few rows of the grouped data\n",
    "print(game_data.head())\n",
    "print(game_data['result'].unique())"
   ]
  },
  {
   "cell_type": "code",
   "execution_count": 33,
   "metadata": {},
   "outputs": [
    {
     "name": "stdout",
     "output_type": "stream",
     "text": [
      "patch                 14.01\n",
      "pick1_team1         LeBlanc\n",
      "pick2_team1           Varus\n",
      "pick3_team1    Renata Glasc\n",
      "pick4_team1        Renekton\n",
      "pick5_team1        Xin Zhao\n",
      "pick1_team2         Kalista\n",
      "pick2_team2           Neeko\n",
      "pick3_team2         Lee Sin\n",
      "pick4_team2        Nautilus\n",
      "pick5_team2             Jax\n",
      "result                    0\n",
      "Name: 15, dtype: object\n"
     ]
    }
   ],
   "source": [
    "# Checking to make sure it correctly aligned the patch numbers\n",
    "first_game_patch_14_01 = game_data[game_data['patch'] == '14.01'].iloc[0]\n",
    "print(first_game_patch_14_01)"
   ]
  },
  {
   "cell_type": "markdown",
   "metadata": {},
   "source": [
    "### Preprocessing the Data\n",
    "In general, models in machine learning do not want to take strings as inputs, so categorical variables should be encoded. \n",
    "\\\n",
    "There are many methods of encoding, but this model will be using one-hot encoding for the patches and multi-hot encoding for each team's draft.\n",
    "\n",
    "\n",
    "**A Short Explanation**\n",
    "\n",
    "In one-hot encoding, a variable is converted into a binary vector, where each element represents a different category.\n",
    "\n",
    "For example, say a variable `animal` can take on three possible values: `\"cat\"`, `\"dog\"`, or `\"bird\"`. \\\n",
    "Since there are three values, the one-hot vector would have three elements, and suppose that the first element represents `\"cat\"`, the second `\"dog\"`, and the last `\"bird\"`. \\\n",
    "Then every time there is a data point that is a `\"cat\"`, it would be encoded by the vector `[1, 0, 0]`. Similarly, `\"dog\"` would be encoded by `[0, 1, 0]`, and `[0, 0, 1]` for `\"bird\"`.\n",
    "\n",
    "Multi-hot encoding works similarly, except a vector may contain more than one `1`.\n"
   ]
  },
  {
   "cell_type": "code",
   "execution_count": 34,
   "metadata": {},
   "outputs": [
    {
     "name": "stdout",
     "output_type": "stream",
     "text": [
      "   patch pick1_team1 pick2_team1   pick3_team1 pick4_team1 pick5_team1  \\\n",
      "0  13.24     Kalista       Senna       Orianna      Maokai      Aatrox   \n",
      "1  13.24       Neeko    Bel'Veth        Kennen       Senna  Tahm Kench   \n",
      "2  13.24       Neeko     Caitlyn           Lux         Jax    Bel'Veth   \n",
      "3  13.24      Rumble      Draven  Renata Glasc    Tristana   Jarvan IV   \n",
      "4  13.24       Varus        Azir      Nautilus    Xin Zhao    Renekton   \n",
      "\n",
      "    pick1_team2   pick2_team2 pick3_team2 pick4_team2  ... patch_14.14  \\\n",
      "0  Renata Glasc         Varus     LeBlanc        Rell  ...           0   \n",
      "1       Kalista           Jax     LeBlanc        Rell  ...           0   \n",
      "2       Kalista  Renata Glasc        Azir     Lee Sin  ...           0   \n",
      "3       Orianna       Kalista       Senna      Aatrox  ...           0   \n",
      "4         Milio       Orianna      Lucian     Lee Sin  ...           0   \n",
      "\n",
      "   patch_14.15  patch_14.16  patch_14.17  patch_14.18  patch_14.19  \\\n",
      "0            0            0            0            0            0   \n",
      "1            0            0            0            0            0   \n",
      "2            0            0            0            0            0   \n",
      "3            0            0            0            0            0   \n",
      "4            0            0            0            0            0   \n",
      "\n",
      "   patch_14.2  patch_14.21  patch_14.22  patch_nan  \n",
      "0           0            0            0          0  \n",
      "1           0            0            0          0  \n",
      "2           0            0            0          0  \n",
      "3           0            0            0          0  \n",
      "4           0            0            0          0  \n",
      "\n",
      "[5 rows x 36 columns]\n"
     ]
    }
   ],
   "source": [
    "one_hot_encoded_patches = pd.get_dummies(game_data['patch'], prefix='patch')\n",
    "\n",
    "one_hot_encoded_patches = one_hot_encoded_patches.astype(int)\n",
    "\n",
    "# Add the encoded patches back to the original DataFrame\n",
    "game_data = pd.concat([game_data, one_hot_encoded_patches], axis=1)\n",
    "\n",
    "print(game_data.head())\n"
   ]
  },
  {
   "cell_type": "code",
   "execution_count": 35,
   "metadata": {},
   "outputs": [
    {
     "name": "stdout",
     "output_type": "stream",
     "text": [
      "                                        team1_vector  \\\n",
      "0  [1, 1, 1, 1, 1, 0, 0, 0, 0, 0, 0, 0, 0, 0, 0, ...   \n",
      "1  [0, 1, 0, 0, 0, 0, 0, 0, 0, 0, 1, 1, 1, 1, 0, ...   \n",
      "2  [0, 0, 0, 0, 0, 0, 0, 0, 0, 0, 1, 1, 0, 0, 1, ...   \n",
      "3  [0, 0, 0, 0, 0, 1, 0, 0, 0, 1, 0, 0, 0, 0, 0, ...   \n",
      "4  [0, 0, 0, 0, 0, 0, 1, 0, 0, 0, 0, 0, 0, 0, 0, ...   \n",
      "\n",
      "                                        team2_vector  \n",
      "0  [0, 0, 0, 0, 0, 1, 1, 1, 1, 1, 0, 0, 0, 0, 0, ...  \n",
      "1  [1, 0, 0, 0, 0, 0, 0, 1, 1, 0, 0, 0, 0, 0, 1, ...  \n",
      "2  [1, 0, 0, 0, 1, 1, 0, 0, 0, 0, 0, 0, 0, 0, 0, ...  \n",
      "3  [1, 1, 1, 0, 1, 0, 0, 0, 0, 0, 0, 0, 0, 0, 0, ...  \n",
      "4  [0, 0, 1, 0, 1, 0, 0, 0, 0, 0, 0, 0, 0, 0, 0, ...  \n"
     ]
    }
   ],
   "source": [
    "# Identify all unique champions across all picks\n",
    "champions = pd.unique(game_data[['pick1_team1', 'pick2_team1', 'pick3_team1', 'pick4_team1', 'pick5_team1',\n",
    "                                 'pick1_team2', 'pick2_team2', 'pick3_team2', 'pick4_team2', 'pick5_team2']].values.ravel())\n",
    "\n",
    "# Create a mapping from champion name to index\n",
    "champion_to_index = {champ: idx for idx, champ in enumerate(champions)}\n",
    "\n",
    "# Create multi-hot encoding for each team\n",
    "def create_multi_hot_vector(picks, champion_to_index, num_champions):\n",
    "    vector = np.zeros(num_champions, dtype=int)\n",
    "    for pick in picks:\n",
    "        if pick in champion_to_index:  # Ignore invalid picks (e.g., NaN)\n",
    "            vector[champion_to_index[pick]] = 1\n",
    "    return vector\n",
    "\n",
    "# Apply multi-hot encoding to the dataset\n",
    "num_champions = len(champions)\n",
    "\n",
    "team1_vectors = []\n",
    "team2_vectors = []\n",
    "\n",
    "for _, row in game_data.iterrows():\n",
    "    team1_picks = row[['pick1_team1', 'pick2_team1', 'pick3_team1', 'pick4_team1', 'pick5_team1']]\n",
    "    team2_picks = row[['pick1_team2', 'pick2_team2', 'pick3_team2', 'pick4_team2', 'pick5_team2']]\n",
    "    \n",
    "    team1_vectors.append(create_multi_hot_vector(team1_picks, champion_to_index, num_champions))\n",
    "    team2_vectors.append(create_multi_hot_vector(team2_picks, champion_to_index, num_champions))\n",
    "\n",
    "# Add the multi-hot vectors to the DataFrame\n",
    "game_data['team1_vector'] = team1_vectors\n",
    "game_data['team2_vector'] = team2_vectors\n",
    "\n",
    "print(game_data[['team1_vector', 'team2_vector']].head())"
   ]
  },
  {
   "cell_type": "code",
   "execution_count": 37,
   "metadata": {},
   "outputs": [
    {
     "name": "stdout",
     "output_type": "stream",
     "text": [
      "X_train_tensor shape: torch.Size([7751, 360])\n",
      "y_train_tensor shape: torch.Size([7751, 1])\n",
      "X_test_tensor shape: torch.Size([1938, 360])\n",
      "y_test_tensor shape: torch.Size([1938, 1])\n"
     ]
    }
   ],
   "source": [
    "# Concatenate features as before\n",
    "patch_columns = [col for col in game_data.columns if col.startswith('patch_')]\n",
    "patch_encoded = game_data[patch_columns].values \n",
    "team1_vectors = np.array(game_data['team1_vector'].tolist())\n",
    "team2_vectors = np.array(game_data['team2_vector'].tolist())\n",
    "X = np.hstack([patch_encoded, team1_vectors, team2_vectors])\n",
    "y = game_data['result'].values\n",
    "\n",
    "# Randomly shuffle and split the data\n",
    "np.random.seed(42)  # Set the random seed for reproducibility\n",
    "indices = np.random.permutation(len(X))\n",
    "split_index = int(0.8 * len(X))\n",
    "\n",
    "train_indices = indices[:split_index]\n",
    "test_indices = indices[split_index:]\n",
    "\n",
    "X_train, X_test = X[train_indices], X[test_indices]\n",
    "y_train, y_test = y[train_indices], y[test_indices]\n",
    "\n",
    "# Convert to PyTorch tensors\n",
    "X_train_tensor = torch.tensor(X_train, dtype=torch.float32)\n",
    "X_test_tensor = torch.tensor(X_test, dtype=torch.float32)\n",
    "y_train_tensor = torch.tensor(y_train, dtype=torch.float32).unsqueeze(1)\n",
    "y_test_tensor = torch.tensor(y_test, dtype=torch.float32).unsqueeze(1)\n",
    "\n",
    "# Verify\n",
    "print(f\"X_train_tensor shape: {X_train_tensor.shape}\")\n",
    "print(f\"y_train_tensor shape: {y_train_tensor.shape}\")\n",
    "print(f\"X_test_tensor shape: {X_test_tensor.shape}\")\n",
    "print(f\"y_test_tensor shape: {y_test_tensor.shape}\")"
   ]
  },
  {
   "cell_type": "markdown",
   "metadata": {},
   "source": [
    "### Defining the Model"
   ]
  },
  {
   "cell_type": "code",
   "execution_count": 39,
   "metadata": {},
   "outputs": [
    {
     "name": "stdout",
     "output_type": "stream",
     "text": [
      "LeagueDraftPredictor(\n",
      "  (fc1): Linear(in_features=360, out_features=128, bias=True)\n",
      "  (fc2): Linear(in_features=128, out_features=64, bias=True)\n",
      "  (fc3): Linear(in_features=64, out_features=1, bias=True)\n",
      "  (dropout): Dropout(p=0.3, inplace=False)\n",
      ")\n"
     ]
    }
   ],
   "source": [
    "class LeagueDraftPredictor(nn.Module):\n",
    "    def __init__(self, input_size):\n",
    "        super(LeagueDraftPredictor, self).__init__()\n",
    "        # Define the layers\n",
    "        self.fc1 = nn.Linear(input_size, 128)  # Input layer to first hidden layer\n",
    "        self.fc2 = nn.Linear(128, 64)          # First hidden layer to second hidden layer\n",
    "        self.fc3 = nn.Linear(64, 1)            # Second hidden layer to output\n",
    "        self.dropout = nn.Dropout(0.3)         # Dropout for regularization\n",
    "\n",
    "    def forward(self, x):\n",
    "        x = F.relu(self.fc1(x))              # First hidden layer with ReLU\n",
    "        x = self.dropout(x)                  # Apply dropout\n",
    "        x = F.relu(self.fc2(x))              # Second hidden layer with ReLU\n",
    "        x = self.dropout(x)                  # Apply dropout\n",
    "        x = torch.sigmoid(self.fc3(x))       # Sigmoid activation for binary classification\n",
    "        return x\n",
    "\n",
    "# Instantiate the model\n",
    "input_size = X_train_tensor.shape[1]  # Number of input features\n",
    "model = LeagueDraftPredictor(input_size)\n",
    "\n",
    "# Print the model architecture\n",
    "print(model)"
   ]
  },
  {
   "cell_type": "markdown",
   "metadata": {},
   "source": [
    "**Loss Function**"
   ]
  },
  {
   "cell_type": "code",
   "execution_count": 40,
   "metadata": {},
   "outputs": [],
   "source": [
    "# Loss function and optimizer\n",
    "criterion = nn.BCELoss()  # Binary Cross Entropy Loss\n",
    "optimizer = torch.optim.Adam(model.parameters(), lr=0.001)  # Adam optimizer with learning rate 0.001\n"
   ]
  },
  {
   "cell_type": "markdown",
   "metadata": {},
   "source": [
    "### Training the Model"
   ]
  },
  {
   "cell_type": "code",
   "execution_count": null,
   "metadata": {},
   "outputs": [
    {
     "name": "stdout",
     "output_type": "stream",
     "text": [
      "Epoch 1/100, Loss: 0.1203\n",
      "Epoch 2/100, Loss: 0.1219\n",
      "Epoch 3/100, Loss: 0.1156\n",
      "Epoch 4/100, Loss: 0.1173\n",
      "Epoch 5/100, Loss: 0.1129\n",
      "Epoch 6/100, Loss: 0.1244\n",
      "Epoch 7/100, Loss: 0.1189\n",
      "Epoch 8/100, Loss: 0.1159\n",
      "Epoch 9/100, Loss: 0.1127\n",
      "Epoch 10/100, Loss: 0.1200\n",
      "Epoch 11/100, Loss: 0.1166\n",
      "Epoch 12/100, Loss: 0.1193\n",
      "Epoch 13/100, Loss: 0.1159\n",
      "Epoch 14/100, Loss: 0.1051\n",
      "Epoch 15/100, Loss: 0.1132\n",
      "Epoch 16/100, Loss: 0.1191\n",
      "Epoch 17/100, Loss: 0.1078\n",
      "Epoch 18/100, Loss: 0.1169\n",
      "Epoch 19/100, Loss: 0.1144\n",
      "Epoch 20/100, Loss: 0.1142\n",
      "Epoch 21/100, Loss: 0.1063\n",
      "Epoch 22/100, Loss: 0.1121\n",
      "Epoch 23/100, Loss: 0.1075\n",
      "Epoch 24/100, Loss: 0.1071\n",
      "Epoch 25/100, Loss: 0.1108\n",
      "Epoch 26/100, Loss: 0.1099\n",
      "Epoch 27/100, Loss: 0.1079\n",
      "Epoch 28/100, Loss: 0.1041\n",
      "Epoch 29/100, Loss: 0.1039\n",
      "Epoch 30/100, Loss: 0.1043\n",
      "Epoch 31/100, Loss: 0.1096\n",
      "Epoch 32/100, Loss: 0.1016\n",
      "Epoch 33/100, Loss: 0.1053\n",
      "Epoch 34/100, Loss: 0.1027\n",
      "Epoch 35/100, Loss: 0.1076\n",
      "Epoch 36/100, Loss: 0.1088\n",
      "Epoch 37/100, Loss: 0.1019\n",
      "Epoch 38/100, Loss: 0.1058\n",
      "Epoch 39/100, Loss: 0.1118\n",
      "Epoch 40/100, Loss: 0.1049\n",
      "Epoch 41/100, Loss: 0.0973\n",
      "Epoch 42/100, Loss: 0.1020\n",
      "Epoch 43/100, Loss: 0.1057\n",
      "Epoch 44/100, Loss: 0.1039\n",
      "Epoch 45/100, Loss: 0.0961\n",
      "Epoch 46/100, Loss: 0.0998\n",
      "Epoch 47/100, Loss: 0.1028\n",
      "Epoch 48/100, Loss: 0.0987\n",
      "Epoch 49/100, Loss: 0.1062\n",
      "Epoch 50/100, Loss: 0.0989\n",
      "Epoch 51/100, Loss: 0.1037\n",
      "Epoch 52/100, Loss: 0.0945\n",
      "Epoch 53/100, Loss: 0.0981\n",
      "Epoch 54/100, Loss: 0.0947\n",
      "Epoch 55/100, Loss: 0.0923\n",
      "Epoch 56/100, Loss: 0.0941\n",
      "Epoch 57/100, Loss: 0.1006\n",
      "Epoch 58/100, Loss: 0.0955\n",
      "Epoch 59/100, Loss: 0.0963\n",
      "Epoch 60/100, Loss: 0.0998\n",
      "Epoch 61/100, Loss: 0.0931\n",
      "Epoch 62/100, Loss: 0.0948\n",
      "Epoch 63/100, Loss: 0.0970\n",
      "Epoch 64/100, Loss: 0.0934\n",
      "Epoch 65/100, Loss: 0.0964\n",
      "Epoch 66/100, Loss: 0.0970\n",
      "Epoch 67/100, Loss: 0.0940\n",
      "Epoch 68/100, Loss: 0.0935\n",
      "Epoch 69/100, Loss: 0.0956\n",
      "Epoch 70/100, Loss: 0.0988\n",
      "Epoch 71/100, Loss: 0.0995\n",
      "Epoch 72/100, Loss: 0.0957\n",
      "Epoch 73/100, Loss: 0.0912\n",
      "Epoch 74/100, Loss: 0.0966\n",
      "Epoch 75/100, Loss: 0.0963\n",
      "Epoch 76/100, Loss: 0.0965\n",
      "Epoch 77/100, Loss: 0.0932\n",
      "Epoch 78/100, Loss: 0.0921\n",
      "Epoch 79/100, Loss: 0.0970\n",
      "Epoch 80/100, Loss: 0.0973\n",
      "Epoch 81/100, Loss: 0.1040\n",
      "Epoch 82/100, Loss: 0.0923\n",
      "Epoch 83/100, Loss: 0.0915\n",
      "Epoch 84/100, Loss: 0.0967\n",
      "Epoch 85/100, Loss: 0.0926\n",
      "Epoch 86/100, Loss: 0.0925\n",
      "Epoch 87/100, Loss: 0.0913\n",
      "Epoch 88/100, Loss: 0.0918\n",
      "Epoch 89/100, Loss: 0.0939\n",
      "Epoch 90/100, Loss: 0.0922\n",
      "Epoch 91/100, Loss: 0.0939\n",
      "Epoch 92/100, Loss: 0.0906\n",
      "Epoch 93/100, Loss: 0.0957\n",
      "Epoch 94/100, Loss: 0.0964\n",
      "Epoch 95/100, Loss: 0.0898\n",
      "Epoch 96/100, Loss: 0.0885\n",
      "Epoch 97/100, Loss: 0.0895\n",
      "Epoch 98/100, Loss: 0.0934\n",
      "Epoch 99/100, Loss: 0.0870\n",
      "Epoch 100/100, Loss: 0.0834\n"
     ]
    }
   ],
   "source": [
    "# Training parameters\n",
    "epochs = 50\n",
    "batch_size = 32\n",
    "\n",
    "# DataLoader for batching\n",
    "train_dataset = torch.utils.data.TensorDataset(X_train_tensor, y_train_tensor)\n",
    "train_loader = torch.utils.data.DataLoader(train_dataset, batch_size=batch_size, shuffle=True)\n",
    "\n",
    "# Training loop\n",
    "for epoch in range(epochs):\n",
    "    model.train()  # Set model to training mode\n",
    "    epoch_loss = 0\n",
    "\n",
    "    for batch_X, batch_y in train_loader:\n",
    "        optimizer.zero_grad()          # Clear gradients from the previous step\n",
    "        outputs = model(batch_X)       # Forward pass\n",
    "        loss = criterion(outputs, batch_y)  # Compute loss\n",
    "        loss.backward()                # Backpropagation\n",
    "        optimizer.step()               # Update weights\n",
    "        epoch_loss += loss.item()      # Accumulate loss\n",
    "\n",
    "    print(f\"Epoch {epoch+1}/{epochs}, Loss: {epoch_loss/len(train_loader):.4f}\")\n"
   ]
  },
  {
   "cell_type": "markdown",
   "metadata": {},
   "source": [
    "### Evaluating the Model"
   ]
  },
  {
   "cell_type": "code",
   "execution_count": 45,
   "metadata": {},
   "outputs": [
    {
     "name": "stdout",
     "output_type": "stream",
     "text": [
      "Test Accuracy: 0.5361\n"
     ]
    }
   ],
   "source": [
    "# Evaluation\n",
    "model.eval()  # Set model to evaluation mode\n",
    "with torch.no_grad():\n",
    "    test_outputs = model(X_test_tensor)  # Forward pass\n",
    "    test_predictions = (test_outputs > 0.5).float()  # Convert probabilities to binary predictions\n",
    "    accuracy = (test_predictions == y_test_tensor).float().mean().item()  # Compute accuracy\n",
    "\n",
    "print(f\"Test Accuracy: {accuracy:.4f}\")\n"
   ]
  }
 ],
 "metadata": {
  "kernelspec": {
   "display_name": ".venv",
   "language": "python",
   "name": "python3"
  },
  "language_info": {
   "codemirror_mode": {
    "name": "ipython",
    "version": 3
   },
   "file_extension": ".py",
   "mimetype": "text/x-python",
   "name": "python",
   "nbconvert_exporter": "python",
   "pygments_lexer": "ipython3",
   "version": "3.12.7"
  }
 },
 "nbformat": 4,
 "nbformat_minor": 2
}
